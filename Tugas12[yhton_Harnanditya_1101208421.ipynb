{
  "nbformat": 4,
  "nbformat_minor": 0,
  "metadata": {
    "colab": {
      "name": "Untitled1.ipynb",
      "provenance": [],
      "authorship_tag": "ABX9TyOkTjyifwLkAiEHTffgnQ3w",
      "include_colab_link": true
    },
    "kernelspec": {
      "name": "python3",
      "display_name": "Python 3"
    }
  },
  "cells": [
    {
      "cell_type": "markdown",
      "metadata": {
        "id": "view-in-github",
        "colab_type": "text"
      },
      "source": [
        "<a href=\"https://colab.research.google.com/github/Harnanditya/Tugas12Python/blob/main/Tugas12%5Byhton_Harnanditya_1101208421.ipynb\" target=\"_parent\"><img src=\"https://colab.research.google.com/assets/colab-badge.svg\" alt=\"Open In Colab\"/></a>"
      ]
    },
    {
      "cell_type": "code",
      "metadata": {
        "id": "21hzklYKZkkf"
      },
      "source": [
        "# Name : Harnanditya Mahendra\r\n",
        "# NIM : 1101208421\r\n",
        "# Class : TTX 44-01"
      ],
      "execution_count": 1,
      "outputs": []
    },
    {
      "cell_type": "code",
      "metadata": {
        "id": "28dytgvlZrfy"
      },
      "source": [
        "import numpy as np"
      ],
      "execution_count": 2,
      "outputs": []
    },
    {
      "cell_type": "code",
      "metadata": {
        "id": "n6H_EoJzZwkS"
      },
      "source": [
        "NtL = lambda x: 10*np.log10(x)"
      ],
      "execution_count": 3,
      "outputs": []
    },
    {
      "cell_type": "code",
      "metadata": {
        "colab": {
          "base_uri": "https://localhost:8080/"
        },
        "id": "_GX6eZacZ0BP",
        "outputId": "e99b729f-b5ca-483e-d22b-ffaa73df38ed"
      },
      "source": [
        "z=NtL(100)\r\n",
        "print(z)"
      ],
      "execution_count": 4,
      "outputs": [
        {
          "output_type": "stream",
          "text": [
            "20.0\n"
          ],
          "name": "stdout"
        }
      ]
    },
    {
      "cell_type": "code",
      "metadata": {
        "id": "wkXNqxMgZ1O7"
      },
      "source": [
        "LtN = lambda x: 10**(x/10)"
      ],
      "execution_count": 5,
      "outputs": []
    },
    {
      "cell_type": "code",
      "metadata": {
        "colab": {
          "base_uri": "https://localhost:8080/"
        },
        "id": "fxH-EArrZ35l",
        "outputId": "313f0c6b-ee61-4223-d4a1-766364acb605"
      },
      "source": [
        "y=LtN(100)\r\n",
        "print(y)"
      ],
      "execution_count": 6,
      "outputs": [
        {
          "output_type": "stream",
          "text": [
            "10000000000.0\n"
          ],
          "name": "stdout"
        }
      ]
    },
    {
      "cell_type": "code",
      "metadata": {
        "colab": {
          "base_uri": "https://localhost:8080/"
        },
        "id": "xOGX8Em-Z-__",
        "outputId": "f5d4631c-1ce0-423e-8e70-fa97964d470b"
      },
      "source": [
        "# Daerah Suburban\r\n",
        "Lp = 46.3  + (33.9*np.log10(1750)) - (13.83*np.log10(40)) - ((((1.1*np.log10(1750))-0.7)*10) - ((1.56*np.log10(1750))-0.8)) + ((44.9-(6.55*np.log10(40)))*np.log10(5)) + (-11.8082)\r\n",
        "print(Lp)"
      ],
      "execution_count": 7,
      "outputs": [
        {
          "output_type": "stream",
          "text": [
            "121.90913737748107\n"
          ],
          "name": "stdout"
        }
      ]
    },
    {
      "cell_type": "code",
      "metadata": {
        "colab": {
          "base_uri": "https://localhost:8080/"
        },
        "id": "sXCRciXOaB-s",
        "outputId": "5297055b-5b36-43ac-9feb-9e4e17bde910"
      },
      "source": [
        "# Daerah Urban\r\n",
        "Lp = 46.3  + (33.9*np.log10(1750)) - (13.83*np.log10(40)) - ((((1.1*np.log10(1750))-0.7)*10) - ((1.56*np.log10(1750))-0.8)) + ((44.9-(6.55*np.log10(40)))*np.log10(5)) + (0)\r\n",
        "print(Lp)"
      ],
      "execution_count": 8,
      "outputs": [
        {
          "output_type": "stream",
          "text": [
            "133.71733737748107\n"
          ],
          "name": "stdout"
        }
      ]
    },
    {
      "cell_type": "code",
      "metadata": {
        "colab": {
          "base_uri": "https://localhost:8080/"
        },
        "id": "uubqEkYUaFfX",
        "outputId": "dd21fad1-0403-43ed-9096-cf2d991d5d56"
      },
      "source": [
        "# Daerah Open\r\n",
        "Lp = 46.3  + (33.9*np.log10(1750)) - (13.83*np.log10(40)) - ((((1.1*np.log10(1750))-0.7)*10) - ((1.56*np.log10(1750))-0.8)) + ((44.9-(6.55*np.log10(40)))*np.log10(5)) + (-31.7677)\r\n",
        "print(Lp)"
      ],
      "execution_count": 9,
      "outputs": [
        {
          "output_type": "stream",
          "text": [
            "101.94963737748107\n"
          ],
          "name": "stdout"
        }
      ]
    },
    {
      "cell_type": "code",
      "metadata": {
        "id": "fSjsZ7UbaHDp"
      },
      "source": [
        "def ploss (d, f, cm, ht, hr):\r\n",
        "  pldb= 46.3 + (33.9*np.log10(f)) - (13.83*np.log10(ht)) - ((((1.1*np.log10(f)) - 0.7) * hr) - ((1.56*np.log10(f)) - 0.8)) + ((44.9 - (6.55*np.log10(ht)))*np.log10(d)) + cm\r\n",
        "  plnum=LtN(-pldb)\r\n",
        "  return pldb,plnum"
      ],
      "execution_count": 10,
      "outputs": []
    },
    {
      "cell_type": "code",
      "metadata": {
        "colab": {
          "base_uri": "https://localhost:8080/"
        },
        "id": "Vq2WXJGzaJYk",
        "outputId": "de6cd7c8-40f6-4675-d5fc-392483e64001"
      },
      "source": [
        "# Daerah Suburban\r\n",
        "pathlossdb, pathlossnum = ploss(5, 1750, -11.8082, 40, 10)\r\n",
        "print(\"pathloss dalam db =\",pathlossdb,\"dB\")\r\n",
        "print(\"pathloss dalam numerik =\",pathlossnum,\"kali\")"
      ],
      "execution_count": 11,
      "outputs": [
        {
          "output_type": "stream",
          "text": [
            "pathloss dalam db = 121.90913737748107 dB\n",
            "pathloss dalam numerik = 6.442972271004683e-13 kali\n"
          ],
          "name": "stdout"
        }
      ]
    },
    {
      "cell_type": "code",
      "metadata": {
        "colab": {
          "base_uri": "https://localhost:8080/"
        },
        "id": "whDW29m8aMHS",
        "outputId": "4291a9f6-7a19-4ed5-a6dc-8de6e8584364"
      },
      "source": [
        "# Daerah Urban\r\n",
        "pathlossdb, pathlossnum = ploss(5, 1750, 0, 40, 10)\r\n",
        "print(\"pathloss dalam db =\",pathlossdb,\"dB\")\r\n",
        "print(\"pathloss dalam numerik =\",pathlossnum,\"kali\")"
      ],
      "execution_count": 12,
      "outputs": [
        {
          "output_type": "stream",
          "text": [
            "pathloss dalam db = 133.71733737748107 dB\n",
            "pathloss dalam numerik = 4.2487997440788266e-14 kali\n"
          ],
          "name": "stdout"
        }
      ]
    },
    {
      "cell_type": "code",
      "metadata": {
        "colab": {
          "base_uri": "https://localhost:8080/"
        },
        "id": "q4STVilQaPiN",
        "outputId": "07c683ec-c55c-4e64-94c6-8cf5ed352a51"
      },
      "source": [
        "# Daerah Open\r\n",
        "pathlossdb, pathlossnum = ploss(5, 1750, -31.7677, 40, 10)\r\n",
        "print(\"pathloss dalam db =\",pathlossdb,\"dB\")\r\n",
        "print(\"pathloss dalam numerik =\",pathlossnum,\"kali\")"
      ],
      "execution_count": 13,
      "outputs": [
        {
          "output_type": "stream",
          "text": [
            "pathloss dalam db = 101.94963737748107 dB\n",
            "pathloss dalam numerik = 6.383167814511705e-11 kali\n"
          ],
          "name": "stdout"
        }
      ]
    }
  ]
}